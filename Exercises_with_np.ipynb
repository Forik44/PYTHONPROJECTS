{
  "nbformat": 4,
  "nbformat_minor": 0,
  "metadata": {
    "colab": {
      "name": "Exercises with np.ipynb",
      "provenance": [],
      "collapsed_sections": [],
      "authorship_tag": "ABX9TyMj6EjG3xxVp0Z5DRezzVUA",
      "include_colab_link": true
    },
    "kernelspec": {
      "name": "python3",
      "display_name": "Python 3"
    },
    "language_info": {
      "name": "python"
    }
  },
  "cells": [
    {
      "cell_type": "markdown",
      "metadata": {
        "id": "view-in-github",
        "colab_type": "text"
      },
      "source": [
        "<a href=\"https://colab.research.google.com/github/Forik44/PYTHONPROJECTS/blob/main/Exercises_with_np.ipynb\" target=\"_parent\"><img src=\"https://colab.research.google.com/assets/colab-badge.svg\" alt=\"Open In Colab\"/></a>"
      ]
    },
    {
      "cell_type": "code",
      "execution_count": 2,
      "metadata": {
        "colab": {
          "base_uri": "https://localhost:8080/"
        },
        "id": "qO5ab3AiaQw7",
        "outputId": "55880a91-245c-490e-e4df-e307dccfad0a"
      },
      "outputs": [
        {
          "output_type": "stream",
          "name": "stdout",
          "text": [
            "лобалаБ\n",
            "Лучший в деле за работой  Приехали...  \n",
            "123\n",
            "246\n",
            "123 4332\n",
            "4332 123\n",
            "SDJGjknnsdgnsdj.fsdjgdsf.jgfjdgjo26\n",
            "+781213412324\n",
            "All OK\n",
            "0 1 2 3 4 5 6 7 8 10 11 12 13 14 15 16 17 18 20 21 22 23 24 25 26 27 28 30 31 32 33 34 35 36 37 38 40 41 42 43 44 45 46 47 48 50 51 52 53 54 55 56 57 58 60 61 62 63 64 65 66 67 68 70 71 72 73 74 75 76 77 78 80 81 82 83 84 85 86 87 88 100 101 102 103 104 105 106 107 108 110 111 112 113 114 115 116 117 118 120 121 122 123 \n",
            "\n",
            "153\n",
            "370\n",
            "371\n",
            "407\n",
            "\n",
            "\n",
            "0\n",
            "1\n",
            "5\n",
            "6\n",
            "25\n",
            "76\n",
            "\n",
            "\n",
            "0 1 8\n",
            "1 10 0\n",
            "3 7 1\n",
            "5 4 2\n",
            "7 1 3\n"
          ]
        }
      ],
      "source": [
        "from typing import Collection\n",
        "str1 = str()\n",
        "ss = \"Балабол\"\n",
        "for a in range(len(ss)):\n",
        "    str1 = str1 + ss[-a-1]\n",
        "print(str1)\n",
        "\n",
        "str2 = str()\n",
        "flag = int()\n",
        "ss = \"'Лучший в деле за работой', - сказал Отец ,- 'Приехали...'\"\n",
        "for a in range(len(ss)): \n",
        "  if(flag == 1):\n",
        "    if(ss[a] != \"'\"):\n",
        "      str2 += ss[a]\n",
        "  if(ss[a] == \"'\"):\n",
        "    if(flag == 0):\n",
        "      flag = 1\n",
        "    else:\n",
        "      flag = 0\n",
        "      str2 += \"  \"\n",
        "print(str2)\n",
        "\n",
        "k = input()\n",
        "k = int(k)\n",
        "k *= 2\n",
        "print(k)\n",
        "\n",
        "k = input()\n",
        "print(k[k.find(\" \")+1:],k[:k.find(\" \")])\n",
        "\n",
        "k = \"SDJGjknnsdgnsdj.fsdjgdsf.jgfjdgjo@gmail.com\"\n",
        "a = int(0)\n",
        "while k[a] != \"@\":\n",
        "  print(k[a], end = \"\", sep = \"\")\n",
        "  a += 1\n",
        "\n",
        "k = \"+7 (812) 134-12-324\"\n",
        "print(\"26\")\n",
        "for a in range(len(k)):\n",
        "  if(int(k[a] == \"-\") | int(k[a] == \" \") | int(k[a] == \"(\") | int(k[a] == \")\")):\n",
        "    continue\n",
        "  print(k[a], end = \"\", sep = \"\")\n",
        "\n",
        "Pal = \"abcghgcba\"\n",
        "flag = bool(1)\n",
        "for a in range(len(Pal)//2):\n",
        "  if(Pal[a] != Pal[-a-1]):\n",
        "    flag = 0\n",
        "\n",
        "if(flag):\n",
        "  print(\"\\nAll OK\")\n",
        "\n",
        "for a in range(124):\n",
        "  if str(a).count(\"9\") > 0:\n",
        "    continue\n",
        "  print(a, sep =\",\", end = \" \")\n",
        "\n",
        "print(\"\\n\")\n",
        "\n",
        "for a in range(100, 999):\n",
        "  if int(str(a)[0])**3 + int(str(a)[1])**3 + int(str(a)[2])**3 == int(a):\n",
        "    print(a)\n",
        "\n",
        "print(\"\\n\")\n",
        "last = str(\"\")\n",
        "str4 = str(\"\")\n",
        "for a in range(100):\n",
        "  last = str(a**2)[len(str(a**2)) - len(str(a)):]\n",
        "  if last  == str(a):\n",
        "    print(a)\n",
        "  last = \"\"\n",
        "\n",
        "print(\"\\n\")\n",
        "for a in range(20):\n",
        "  for b in range(18):\n",
        "    for c in range(17):\n",
        "      if 15*a + 17*b + 21*c == 185:\n",
        "        print(a,b,c)\n",
        "\n"
      ]
    }
  ]
}