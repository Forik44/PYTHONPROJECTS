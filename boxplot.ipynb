{
  "nbformat": 4,
  "nbformat_minor": 0,
  "metadata": {
    "colab": {
      "name": "boxplot.ipynb",
      "provenance": [],
      "authorship_tag": "ABX9TyPgmnRtdIgE0/Puh+R9qiUA",
      "include_colab_link": true
    },
    "kernelspec": {
      "name": "python3",
      "display_name": "Python 3"
    },
    "language_info": {
      "name": "python"
    }
  },
  "cells": [
    {
      "cell_type": "markdown",
      "metadata": {
        "id": "view-in-github",
        "colab_type": "text"
      },
      "source": [
        "<a href=\"https://colab.research.google.com/github/Forik44/PYTHONPROJECTS/blob/main/boxplot.ipynb\" target=\"_parent\"><img src=\"https://colab.research.google.com/assets/colab-badge.svg\" alt=\"Open In Colab\"/></a>"
      ]
    },
    {
      "cell_type": "code",
      "execution_count": null,
      "metadata": {
        "colab": {
          "base_uri": "https://localhost:8080/",
          "height": 265
        },
        "id": "zK-XEOMrnhmw",
        "outputId": "adb08d87-4546-41eb-f4f1-5916b173bbad"
      },
      "outputs": [
        {
          "output_type": "display_data",
          "data": {
            "text/plain": [
              "<Figure size 432x288 with 1 Axes>"
            ],
            "image/png": "[encoded data removed]"
          },
          "metadata": {
            "needs_background": "light"
          }
        }
      ],
      "source": [
        "import numpy as np\n",
        "import pandas as pd\n",
        "normal_sample = np.random.normal(loc = 0.0, scale = 1.0, size = 10000)\n",
        "random_sample = np.random.random(size = 10000)\n",
        "gamma_sample = np.random.gamma(2, size = 10000)\n",
        "\n",
        "df = pd.DataFrame({'Norm' : normal_sample, 'Ran' : random_sample, 'Gamma' : gamma_sample})\n",
        "\n",
        "import matplotlib.pyplot as plt\n",
        "import seaborn as sns\n",
        "\n",
        "plt.figure()\n",
        "\n",
        "_ = plt.boxplot(df['Ran'])"
      ]
    }
  ]
}