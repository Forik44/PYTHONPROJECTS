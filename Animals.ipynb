{
  "nbformat": 4,
  "nbformat_minor": 0,
  "metadata": {
    "colab": {
      "name": "Animals.ipynb",
      "provenance": [],
      "collapsed_sections": [],
      "authorship_tag": "ABX9TyObl+2wQUDdBYjJy0z7FCLH",
      "include_colab_link": true
    },
    "kernelspec": {
      "name": "python3",
      "display_name": "Python 3"
    },
    "language_info": {
      "name": "python"
    }
  },
  "cells": [
    {
      "cell_type": "markdown",
      "metadata": {
        "id": "view-in-github",
        "colab_type": "text"
      },
      "source": [
        "<a href=\"https://colab.research.google.com/github/Forik44/PYTHONPROJECTS/blob/main/Animals.ipynb\" target=\"_parent\"><img src=\"https://colab.research.google.com/assets/colab-badge.svg\" alt=\"Open In Colab\"/></a>"
      ]
    },
    {
      "cell_type": "code",
      "execution_count": null,
      "metadata": {
        "colab": {
          "base_uri": "https://localhost:8080/"
        },
        "id": "gWcsFM-UdWHd",
        "outputId": "bc9cb045-2369-456b-bdce-6582f9ea82c7"
      },
      "outputs": [
        {
          "output_type": "stream",
          "name": "stdout",
          "text": [
            "['cat', 'lion', 'tiger']\n",
            "[('cat', 3), ('tiger', 2), ('lion', 2), ('crocadile', 1)]\n"
          ]
        }
      ],
      "source": [
        "file = open(\"input.txt\")\n",
        "Animals = list();\n",
        "for Animal in file:\n",
        "  Animals.append(Animal)\n",
        "\n",
        "AnimalCan = list()\n",
        "\n",
        "\n",
        "for a in range(7):\n",
        "  for b in range(a,7):\n",
        "    if(Animals[a].split()[1] == Animals[b].split()[1] and Animals[a].split()[2] != Animals[b].split()[2] and AnimalCan.count(Animals[a].split()[1]) == 0):\n",
        "        AnimalCan.append(Animals[a].split()[1])\n",
        "\n",
        "count = dict()\n",
        "for a in range(8):\n",
        "  if(Animals[a].split()[1] not in count.keys()):\n",
        "    count[Animals[a].split()[1]] = 1\n",
        "  else:\n",
        "    count[Animals[a].split()[1]] += 1\n",
        "\n",
        "CountSorted = sorted(count.items(), key=lambda x: x[1], reverse = 1)\n",
        "    \n",
        "\n",
        "AnimalSort = sorted(AnimalCan, key = len)\n",
        "print(AnimalSort)\n",
        "print(CountSorted)\n",
        "\n",
        "file.close()"
      ]
    }
  ]
}