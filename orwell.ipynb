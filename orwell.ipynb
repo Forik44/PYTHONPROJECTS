{
  "nbformat": 4,
  "nbformat_minor": 0,
  "metadata": {
    "colab": {
      "name": "Untitled4.ipynb",
      "provenance": [],
      "collapsed_sections": [],
      "authorship_tag": "ABX9TyNRkNQ1x4s0EzAwkJ3EHB1c",
      "include_colab_link": true
    },
    "kernelspec": {
      "name": "python3",
      "display_name": "Python 3"
    },
    "language_info": {
      "name": "python"
    }
  },
  "cells": [
    {
      "cell_type": "markdown",
      "metadata": {
        "id": "view-in-github",
        "colab_type": "text"
      },
      "source": [
        "<a href=\"https://colab.research.google.com/github/Forik44/PYTHONPROJECTS/blob/main/orwell.ipynb\" target=\"_parent\"><img src=\"https://colab.research.google.com/assets/colab-badge.svg\" alt=\"Open In Colab\"/></a>"
      ]
    },
    {
      "cell_type": "code",
      "execution_count": null,
      "metadata": {
        "colab": {
          "base_uri": "https://localhost:8080/",
          "height": 509
        },
        "id": "0Iz_ZI92W_KL",
        "outputId": "7e538d82-33a9-4640-e1e7-20862f457106"
      },
      "outputs": [
        {
          "output_type": "execute_result",
          "data": {
            "text/plain": [
              "(array([4.9330e+03, 2.5057e+04, 3.6814e+04, 2.7107e+04, 1.9870e+04,\n",
              "        1.4088e+04, 1.2007e+04, 8.1630e+03, 5.6920e+03, 3.6020e+03,\n",
              "        1.9930e+03, 1.1660e+03, 6.1600e+02, 0.0000e+00, 2.9800e+02,\n",
              "        1.2100e+02, 5.9000e+01, 4.8000e+01, 1.4000e+01, 9.0000e+00,\n",
              "        3.0000e+00, 2.0000e+00, 2.0000e+00, 0.0000e+00, 1.0000e+00,\n",
              "        0.0000e+00, 1.0000e+00]),\n",
              " array([ 1.        ,  1.92592593,  2.85185185,  3.77777778,  4.7037037 ,\n",
              "         5.62962963,  6.55555556,  7.48148148,  8.40740741,  9.33333333,\n",
              "        10.25925926, 11.18518519, 12.11111111, 13.03703704, 13.96296296,\n",
              "        14.88888889, 15.81481481, 16.74074074, 17.66666667, 18.59259259,\n",
              "        19.51851852, 20.44444444, 21.37037037, 22.2962963 , 23.22222222,\n",
              "        24.14814815, 25.07407407, 26.        ]),\n",
              " <a list of 27 Patch objects>)"
            ]
          },
          "metadata": {},
          "execution_count": 24
        },
        {
          "output_type": "display_data",
          "data": {
            "text/plain": [
              "<Figure size 432x288 with 1 Axes>"
            ],
            "image/png": "[encoded data removed]"
          },
          "metadata": {
            "needs_background": "light"
          }
        }
      ],
      "source": [
        "from collections import Counter\n",
        "import math\n",
        "with open('orwell_1984.txt', encoding = 'utf8') as text:\n",
        "  words_lenghts_counter = Counter(len(word) for word in text.read().split())\n",
        "\n",
        "words_lenghts_counter\n",
        "\n",
        "import matplotlib as mpl\n",
        "import matplotlib.pyplot as plt\n",
        "\n",
        "fig = plt.figure()\n",
        "ax = fig.add_subplot(111)\n",
        "\n",
        "ax.set_xlim([0,30])\n",
        "ax.set_ylim([0,40000])\n",
        "\n",
        "ax.set_xlabel(\"x\")\n",
        "ax.set_ylabel(\"y\")\n",
        "\n",
        "\n",
        "\n",
        "longestWordLength = max(words_lenghts_counter)\n",
        "\n",
        "histogram = [words_lenghts_counter[wordLen] for wordLen in range(1, longestWordLength + 1)]\n",
        "\n",
        "plt.hist(list(range(1, longestWordLength + 1)), weights = histogram, bins=longestWordLength+1, orientation='vertical')\n",
        "\n"
      ]
    }
  ]
}